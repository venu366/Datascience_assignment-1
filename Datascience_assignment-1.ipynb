{
 "cells": [
  {
   "cell_type": "markdown",
   "id": "e591ade9",
   "metadata": {},
   "source": [
    "1. Write a Python program to reverse a string without using any built-in string reversal functions."
   ]
  },
  {
   "cell_type": "code",
   "execution_count": 1,
   "id": "7a70cff3",
   "metadata": {},
   "outputs": [],
   "source": [
    "def reverse(s):\n",
    "    if len(s) == 0:\n",
    "        return s\n",
    "    else:\n",
    "        return s[ : :-1]"
   ]
  },
  {
   "cell_type": "markdown",
   "id": "2e4b6a71",
   "metadata": {},
   "source": [
    "2. Implement a function to check if a given string is a palindrome"
   ]
  },
  {
   "cell_type": "code",
   "execution_count": 2,
   "id": "c6a6f323",
   "metadata": {},
   "outputs": [],
   "source": [
    "def palindrome(s):\n",
    "    if s == s[: :-1]:\n",
    "        return \"palindrome\"\n",
    "    else:\n",
    "        return \"not a palindrome\""
   ]
  },
  {
   "cell_type": "markdown",
   "id": "6dd12e4a",
   "metadata": {},
   "source": [
    "3. Write a program to find the largest element in a given list."
   ]
  },
  {
   "cell_type": "code",
   "execution_count": 3,
   "id": "7e26477b",
   "metadata": {},
   "outputs": [
    {
     "name": "stdout",
     "output_type": "stream",
     "text": [
      "100\n"
     ]
    }
   ],
   "source": [
    "lst = [20, 10, 20, 4, 100]\n",
    "print(max(lst, key=lambda value: int(value)) )"
   ]
  },
  {
   "cell_type": "markdown",
   "id": "ecd5efe1",
   "metadata": {},
   "source": [
    "4. Implement a function to count the occurrence of each element in a list."
   ]
  },
  {
   "cell_type": "code",
   "execution_count": 4,
   "id": "5cef5c69",
   "metadata": {},
   "outputs": [
    {
     "name": "stdout",
     "output_type": "stream",
     "text": [
      "Element Count\n",
      "2    3\n",
      "1    2\n",
      "3    2\n",
      "4    2\n",
      "5    2\n",
      "dtype: int64\n"
     ]
    }
   ],
   "source": [
    "import pandas as pd\n",
    " \n",
    "# declaring the list\n",
    "l = [1, 1, 2, 2, 2, 3, 3, 4, 4, 5, 5]\n",
    " \n",
    "count = pd.Series(l).value_counts()\n",
    "print(\"Element Count\")\n",
    "print(count)"
   ]
  },
  {
   "cell_type": "markdown",
   "id": "b65a432d",
   "metadata": {},
   "source": [
    "5. Write a Python program to find the second largest number in a list."
   ]
  },
  {
   "cell_type": "code",
   "execution_count": 15,
   "id": "8f71b181",
   "metadata": {},
   "outputs": [
    {
     "name": "stdout",
     "output_type": "stream",
     "text": [
      "Second largest element is: 45\n"
     ]
    }
   ],
   "source": [
    "list1 = [10, 20, 20, 4, 45, 45, 45, 99, 99]\n",
    " \n",
    "# Removing duplicates from the list\n",
    "list2 = list(set(list1))\n",
    " \n",
    "# Sorting the  list\n",
    "list2.sort()\n",
    " \n",
    "# Printing the second last element\n",
    "print(\"Second largest element is:\", list2[-2])"
   ]
  },
  {
   "cell_type": "markdown",
   "id": "7a221e98",
   "metadata": {},
   "source": [
    "6. Implement a function to remove duplicate elements from a list"
   ]
  },
  {
   "cell_type": "code",
   "execution_count": 17,
   "id": "919e2b7a",
   "metadata": {},
   "outputs": [
    {
     "data": {
      "text/plain": [
       "[1, 2, 3, 5]"
      ]
     },
     "execution_count": 17,
     "metadata": {},
     "output_type": "execute_result"
    }
   ],
   "source": [
    "def remove_duplicate(l):\n",
    "    l1 = list(set(l))\n",
    "    return l1\n",
    "l=[1,1,2,3,3,5]\n",
    "remove_duplicate(l)\n"
   ]
  },
  {
   "cell_type": "markdown",
   "id": "7f15c34c",
   "metadata": {},
   "source": [
    "7. Write a program to calculate the factorial of a given number."
   ]
  },
  {
   "cell_type": "code",
   "execution_count": 5,
   "id": "1f3732d6",
   "metadata": {},
   "outputs": [],
   "source": [
    "def factorial(n):\n",
    "    if n == 1 or n == 0:\n",
    "        return 1\n",
    "    else:\n",
    "        return n*factorial(n-1)"
   ]
  },
  {
   "cell_type": "markdown",
   "id": "5f448b5f",
   "metadata": {},
   "source": [
    "8. Implement a function to check if a given number is prime"
   ]
  },
  {
   "cell_type": "code",
   "execution_count": 19,
   "id": "e35928cf",
   "metadata": {},
   "outputs": [],
   "source": [
    "from math import sqrt\n",
    " \n",
    " \n",
    " \n",
    "# Function check whether a number\n",
    "# is prime or not\n",
    "def isPrime(n):\n",
    " \n",
    "    # Corner case\n",
    "    if (n <= 1):\n",
    "        return False\n",
    " \n",
    "    # Check from 2 to sqrt(n)\n",
    "    for i in range(2, int(sqrt(n))+1):\n",
    "        if (n % i == 0):\n",
    "            return False\n",
    " \n",
    "    return True"
   ]
  },
  {
   "cell_type": "markdown",
   "id": "47cddec1",
   "metadata": {},
   "source": [
    "9. Write a Python program to sort a list of integers in ascending order."
   ]
  },
  {
   "cell_type": "code",
   "execution_count": null,
   "id": "c946f0be",
   "metadata": {},
   "outputs": [],
   "source": [
    " def quick_sort(l):\n",
    "    if len(l) <= 1:\n",
    "        return l\n",
    "    else:\n",
    "        return quick_sort([e for e in l[1:] if e <= l[0]]) + [l[0]] +\\\n",
    "            quick_sort([e for e in l[1:] if e > l[0]])"
   ]
  },
  {
   "cell_type": "markdown",
   "id": "3ca2b191",
   "metadata": {},
   "source": [
    "10. Implement a function to find the sum of all numbers in a list."
   ]
  },
  {
   "cell_type": "code",
   "execution_count": null,
   "id": "823d11b8",
   "metadata": {},
   "outputs": [],
   "source": [
    "list1 = [12, 15, 3, 10]\n",
    "print(sum(list(filter(lambda x: (x),list1))))"
   ]
  },
  {
   "cell_type": "markdown",
   "id": "a0c8a453",
   "metadata": {},
   "source": [
    "11. Write a program to find the common elements between two lists."
   ]
  },
  {
   "cell_type": "code",
   "execution_count": 22,
   "id": "e2ff0a98",
   "metadata": {},
   "outputs": [
    {
     "name": "stdout",
     "output_type": "stream",
     "text": [
      "[2, 3, 5]\n"
     ]
    }
   ],
   "source": [
    "l1=[1,2,3,4,5,6]\n",
    "l2=[2,9,8,5,3,9]\n",
    "\n",
    "def common(l1,l2):\n",
    "    result = [i for i in l1 if i in l2]\n",
    "    return result\n",
    "print(common(l1,l2))"
   ]
  },
  {
   "cell_type": "markdown",
   "id": "f5018709",
   "metadata": {},
   "source": [
    "12. Implement a function to check if a given string is an anagram of another string."
   ]
  },
  {
   "cell_type": "code",
   "execution_count": 23,
   "id": "08417356",
   "metadata": {},
   "outputs": [],
   "source": [
    "def anagram(a,b):\n",
    "    if sorted(a) == sorted(b):\n",
    "        return \"given string is a anagram to each other\"\n",
    "    else:\n",
    "        return \"string is not a anagram\""
   ]
  },
  {
   "cell_type": "markdown",
   "id": "7a3d3185",
   "metadata": {},
   "source": [
    "13. Write a Python program to generate all permutations of a given string."
   ]
  },
  {
   "cell_type": "code",
   "execution_count": 27,
   "id": "acdb3321",
   "metadata": {},
   "outputs": [],
   "source": [
    "from itertools import permutations\n",
    " \n",
    "def allPermutations(str):\n",
    "      \n",
    "     # Get all permutations of string 'ABC'\n",
    "     permList = permutations(str)\n",
    " \n",
    "     # print all permutations\n",
    "     for perm in list(permList):\n",
    "            print (''.join(perm))"
   ]
  },
  {
   "cell_type": "markdown",
   "id": "7f1a4000",
   "metadata": {},
   "source": [
    "14. Implement a function to calculate the Fibonacci sequence up to a given number of terms."
   ]
  },
  {
   "cell_type": "code",
   "execution_count": 51,
   "id": "40fcd90a",
   "metadata": {},
   "outputs": [],
   "source": [
    "def fibonacci(n):\n",
    "    if n <= 1:\n",
    "        return n\n",
    "    return fibonacci(n-1) + fibonacci(n-2)  # using recursion\n",
    " "
   ]
  },
  {
   "cell_type": "markdown",
   "id": "29f69e36",
   "metadata": {},
   "source": [
    "15. Write a program to find the median of a list of numbers"
   ]
  },
  {
   "cell_type": "code",
   "execution_count": null,
   "id": "1568ad16",
   "metadata": {},
   "outputs": [],
   "source": [
    "def findMedian(a, n):\n",
    " \n",
    "    # First we sort the array\n",
    "    sorted(a)\n",
    " \n",
    "    # check for even case\n",
    "    if n % 2 != 0:\n",
    "        return float(a[int(n/2)])\n",
    " \n",
    "    return float((a[int((n-1)/2)] +\n",
    "                  a[int(n/2)])/2.0)\n",
    " \n",
    " # Driver code\n",
    "a = [1, 3, 4, 2, 7, 5, 8, 6]\n",
    "n = len(a)"
   ]
  },
  {
   "cell_type": "markdown",
   "id": "315261ff",
   "metadata": {},
   "source": [
    "16. Implement a function to check if a given list is sorted in non-decreasing order."
   ]
  },
  {
   "cell_type": "code",
   "execution_count": null,
   "id": "54f51ce8",
   "metadata": {},
   "outputs": [],
   "source": [
    "test_list = [10, 8, 4, 3, 1]\n",
    " \n",
    "# printing original list\n",
    "print (\"Original list : \" + str(test_list))\n",
    " \n",
    "# using all() function to\n",
    "# Check for Descending Sorted List\n",
    "if all(test_list[i] >= test_list[i+1] for i in range(len(test_list)-1)):\n",
    "    print (\"Yes, List is reverse sorted.\")\n",
    "else:\n",
    "    print (\"No, List is not reverse sorted.\")"
   ]
  },
  {
   "cell_type": "markdown",
   "id": "f7afbb6a",
   "metadata": {},
   "source": [
    "17. Write a Python program to find the intersection of two lists."
   ]
  },
  {
   "cell_type": "code",
   "execution_count": null,
   "id": "7d818feb",
   "metadata": {},
   "outputs": [],
   "source": [
    "def intersection(lst1, lst2):\n",
    "    lst3 = [value for value in lst1 if value in lst2]\n",
    "    return lst3"
   ]
  },
  {
   "cell_type": "markdown",
   "id": "78569906",
   "metadata": {},
   "source": [
    "18. Implement a function to find the maximum subarray sum in a given list."
   ]
  },
  {
   "cell_type": "code",
   "execution_count": null,
   "id": "64596998",
   "metadata": {},
   "outputs": [],
   "source": [
    "def maxCrossingSum(arr, l, m, h):\n",
    " \n",
    "    # Include elements on left of mid.\n",
    "    sm = 0\n",
    "    left_sum = -10000\n",
    " \n",
    "    for i in range(m, l-1, -1):\n",
    "        sm = sm + arr[i]\n",
    " \n",
    "        if (sm > left_sum):\n",
    "            left_sum = sm\n",
    " \n",
    "    # Include elements on right of mid\n",
    "    sm = 0\n",
    "    right_sum = -1000\n",
    "    for i in range(m, h + 1):\n",
    "        sm = sm + arr[i]\n",
    " \n",
    "        if (sm > right_sum):\n",
    "            right_sum = sm\n",
    " \n",
    "    # Return sum of elements on left and right of mid\n",
    "    # returning only left_sum + right_sum will fail for [-2, 1]\n",
    "    return max(left_sum + right_sum - arr[m], left_sum, right_sum)\n",
    " \n",
    " \n",
    " # Returns sum of maximum sum subarray in aa[l..h]\n",
    "def maxSubArraySum(arr, l, h):\n",
    "    #Invalid Range: low is greater than high\n",
    "    if (l > h):\n",
    "        return -10000\n",
    "    # Base Case: Only one element\n",
    "    if (l == h):\n",
    "        return arr[l]\n",
    " \n",
    "    # Find middle point\n",
    "    m = (l + h) // 2\n",
    " \n",
    "    # Return maximum of following three possible cases\n",
    "    # a) Maximum subarray sum in left half\n",
    "    # b) Maximum subarray sum in right half\n",
    "    # c) Maximum subarray sum such that the\n",
    "    #     subarray crosses the midpoint\n",
    "    return max(maxSubArraySum(arr, l, m-1),\n",
    "               maxSubArraySum(arr, m+1, h),\n",
    "               maxCrossingSum(arr, l, m, h))"
   ]
  },
  {
   "cell_type": "markdown",
   "id": "705667af",
   "metadata": {},
   "source": [
    "19. Write a program to remove all vowels from a given string."
   ]
  },
  {
   "cell_type": "code",
   "execution_count": null,
   "id": "a1bd3316",
   "metadata": {},
   "outputs": [],
   "source": [
    "import re\n",
    "def rem_vowel(string):\n",
    "    return (re.sub(\"[aeiouAEIOU]\",\"\",string))  "
   ]
  },
  {
   "cell_type": "markdown",
   "id": "48603bd7",
   "metadata": {},
   "source": [
    "20. Implement a function to reverse the order of words in a given sentence"
   ]
  },
  {
   "cell_type": "code",
   "execution_count": 55,
   "id": "1ca6c38c",
   "metadata": {},
   "outputs": [
    {
     "name": "stdout",
     "output_type": "stream",
     "text": [
      "much very program this like i\n"
     ]
    }
   ],
   "source": [
    "string = \"i like this program very much\"\n",
    " \n",
    "# spliting words in the given string\n",
    "# using slicing reverse the words\n",
    "s = string.split()[::-1]\n",
    " \n",
    "# joining the reversed string and\n",
    "# printing the output\n",
    "print(\" \".join(s))"
   ]
  },
  {
   "cell_type": "markdown",
   "id": "f32f8523",
   "metadata": {},
   "source": [
    "21. Write a Python program to check if two strings are anagrams of each other."
   ]
  },
  {
   "cell_type": "code",
   "execution_count": 56,
   "id": "ef17edc0",
   "metadata": {},
   "outputs": [
    {
     "name": "stdout",
     "output_type": "stream",
     "text": [
      "The strings are anagrams.\n"
     ]
    }
   ],
   "source": [
    "def check(s1, s2):\n",
    "     \n",
    "    # the sorted strings are checked\n",
    "    if(sorted(s1)== sorted(s2)):\n",
    "        print(\"The strings are anagrams.\")\n",
    "    else:\n",
    "        print(\"The strings aren't anagrams.\")        \n",
    "         \n",
    "# driver code \n",
    "s1 =\"listen\"\n",
    "s2 =\"silent\"\n",
    "check(s1, s2)"
   ]
  },
  {
   "cell_type": "markdown",
   "id": "5db4268e",
   "metadata": {},
   "source": [
    "22. Implement a function to find the first non-repeating character in a string"
   ]
  },
  {
   "cell_type": "code",
   "execution_count": null,
   "id": "59cf0f2b",
   "metadata": {},
   "outputs": [],
   "source": [
    "def FirstNonRepeat(s):\n",
    " \n",
    "    for i in s:\n",
    " \n",
    "        if (s.find(i, (s.find(i)+1))) == -1:\n",
    " \n",
    "            print(\"First non-repeating character is\", i)\n",
    " \n",
    "            break\n",
    " \n",
    "    return"
   ]
  },
  {
   "cell_type": "markdown",
   "id": "ec4c45d8",
   "metadata": {},
   "source": [
    "23. Write a program to find the prime factors of a given number."
   ]
  },
  {
   "cell_type": "code",
   "execution_count": null,
   "id": "daee9fb9",
   "metadata": {},
   "outputs": [],
   "source": [
    "import math\n",
    " \n",
    "# A function to print all prime factors of\n",
    "# a given number n\n",
    "def primeFactors(n):\n",
    "     \n",
    "    # Print the number of two's that divide n\n",
    "    while n % 2 == 0:\n",
    "        print 2,\n",
    "        n = n / 2\n",
    "         \n",
    "    # n must be odd at this point\n",
    "    # so a skip of 2 ( i = i + 2) can be used\n",
    "    for i in range(3,int(math.sqrt(n))+1,2):\n",
    "         \n",
    "        # while i divides n , print i and divide n\n",
    "        while n % i== 0:\n",
    "            print i,\n",
    "            n = n / i\n",
    "             \n",
    "    # Condition if n is a prime\n",
    "    # number greater than 2\n",
    "    if n > 2:\n",
    "        print n"
   ]
  },
  {
   "cell_type": "markdown",
   "id": "9dd452a0",
   "metadata": {},
   "source": [
    "24. Implement a function to check if a given number is a power of two."
   ]
  },
  {
   "cell_type": "code",
   "execution_count": null,
   "id": "3d776fc2",
   "metadata": {},
   "outputs": [],
   "source": [
    "def powerof2(n):\n",
    " \n",
    "    # base cases\n",
    "    # '1' is the only odd number\n",
    "    # which is a power of 2(2^0)\n",
    "    if n == 1:\n",
    "        return True\n",
    " \n",
    "    # all other odd numbers are not powers of 2\n",
    "    elif n % 2 != 0 or n == 0:\n",
    "        return False\n",
    " \n",
    "    # recursive function call\n",
    "    return powerof2(n/2)"
   ]
  },
  {
   "cell_type": "markdown",
   "id": "d35d07c1",
   "metadata": {},
   "source": [
    "25. Write a Python program to merge two sorted lists into a single sorted list."
   ]
  },
  {
   "cell_type": "code",
   "execution_count": 57,
   "id": "4a17c72a",
   "metadata": {},
   "outputs": [
    {
     "name": "stdout",
     "output_type": "stream",
     "text": [
      "The original list 1 is : [1, 5, 6, 9, 11]\n",
      "The original list 2 is : [3, 4, 7, 8, 10]\n",
      "The combined sorted list is : [1, 3, 4, 5, 6, 7, 8, 9, 10, 11]\n"
     ]
    }
   ],
   "source": [
    "# initializing lists\n",
    "test_list1 = [1, 5, 6, 9, 11]\n",
    "test_list2 = [3, 4, 7, 8, 10]\n",
    " \n",
    "# printing original lists\n",
    "print (\"The original list 1 is : \" + str(test_list1))\n",
    "print (\"The original list 2 is : \" + str(test_list2))\n",
    " \n",
    "# using sorted()\n",
    "# to combine two sorted lists\n",
    "res = sorted(test_list1 + test_list2)\n",
    " \n",
    "# printing result\n",
    "print (\"The combined sorted list is : \" + str(res))"
   ]
  },
  {
   "cell_type": "markdown",
   "id": "1e73b19a",
   "metadata": {},
   "source": [
    "26. Implement a function to find the mode of a list of numbers."
   ]
  },
  {
   "cell_type": "code",
   "execution_count": null,
   "id": "51d5f071",
   "metadata": {},
   "outputs": [],
   "source": [
    "number_list = [1, 2, 2, 3, 4, 4, 5, 5, 6, 7, 8, 8, 8]\n",
    "uniq_values = []\n",
    "mode_values = []\n",
    "for i in number_list:\n",
    "    if i not in uniq_values:\n",
    "        uniq_values.append(i)\n",
    "    else:\n",
    "        mode_values.append(i)\n",
    "print(set(mode_values))"
   ]
  },
  {
   "cell_type": "markdown",
   "id": "f88139a1",
   "metadata": {},
   "source": [
    "27. Write a program to find the greatest common divisor (GCD) of two numbers."
   ]
  },
  {
   "cell_type": "code",
   "execution_count": 58,
   "id": "4da1d91a",
   "metadata": {},
   "outputs": [
    {
     "name": "stdout",
     "output_type": "stream",
     "text": [
      "GCD of 98 and 56 is 14\n"
     ]
    }
   ],
   "source": [
    "def gcd(a,b):\n",
    "     \n",
    "    # Everything divides 0\n",
    "    if (b == 0):\n",
    "         return a\n",
    "    return gcd(b, a%b)\n",
    " \n",
    "# Driver program to test above function\n",
    "a = 98\n",
    "b = 56\n",
    "if(gcd(a, b)):\n",
    "    print('GCD of', a, 'and', b, 'is', gcd(a, b))\n",
    "else:\n",
    "    print('not found')"
   ]
  },
  {
   "cell_type": "markdown",
   "id": "918a213d",
   "metadata": {},
   "source": [
    "28. Implement a function to calculate the square root of a given number."
   ]
  },
  {
   "cell_type": "code",
   "execution_count": null,
   "id": "b2e9286b",
   "metadata": {},
   "outputs": [],
   "source": [
    "def floorSqrt(x):\n",
    " \n",
    "    # Base cases\n",
    "    if (x == 0 or x == 1):\n",
    "        return x\n",
    " \n",
    "    # Starting from 1, try all numbers until\n",
    "    # i*i is greater than or equal to x.\n",
    "    i = 1\n",
    "    result = 1\n",
    "    while (result <= x):\n",
    " \n",
    "        i += 1\n",
    "        result = i * i\n",
    " \n",
    "    return i - 1"
   ]
  },
  {
   "cell_type": "markdown",
   "id": "ae4ca547",
   "metadata": {},
   "source": [
    "29. Write a Python program to check if a given string is a valid palindrome ignoring non-alphanumeric characters."
   ]
  },
  {
   "cell_type": "code",
   "execution_count": null,
   "id": "7698df19",
   "metadata": {},
   "outputs": [],
   "source": [
    "class Solution:\n",
    "    def isPalindrome(self, s: str) -> bool:\n",
    "        filter = ''.join([i.lower() for i in s if i.isalnum()])\n",
    "        return filter == filter[::-1]"
   ]
  },
  {
   "cell_type": "markdown",
   "id": "3c67cc13",
   "metadata": {},
   "source": [
    "30. Implement a function to find the minimum element in a rotated sorted list."
   ]
  },
  {
   "cell_type": "code",
   "execution_count": null,
   "id": "fda042df",
   "metadata": {},
   "outputs": [],
   "source": [
    "def findMin(arr, N):\n",
    "     \n",
    "    min_ele = arr[0];\n",
    " \n",
    "    # Traversing over array to\n",
    "    # find minimum element\n",
    "    for i in range(N) :\n",
    "        if arr[i] < min_ele :\n",
    "            min_ele = arr[i]\n",
    " \n",
    "    return min_ele;\n",
    " "
   ]
  },
  {
   "cell_type": "markdown",
   "id": "3771d977",
   "metadata": {},
   "source": [
    "31. Write a program to find the sum of all even numbers in a list."
   ]
  },
  {
   "cell_type": "code",
   "execution_count": 63,
   "id": "7bd6cd59",
   "metadata": {},
   "outputs": [
    {
     "name": "stdout",
     "output_type": "stream",
     "text": [
      "20\n"
     ]
    }
   ],
   "source": [
    "l=[1,2,3,4,5,6,7,8,9]\n",
    "\n",
    "l1=l[1: : 2]\n",
    "print(sum(list(filter(lambda x: (x),l1))))\n"
   ]
  },
  {
   "cell_type": "markdown",
   "id": "64b2c5aa",
   "metadata": {},
   "source": [
    "32. Implement a function to calculate the power of a number using recursion."
   ]
  },
  {
   "cell_type": "code",
   "execution_count": null,
   "id": "06ac152a",
   "metadata": {},
   "outputs": [],
   "source": [
    "def power(N, P):\n",
    " \n",
    "    # If power is 0 then return 1\n",
    "    # if condition is true\n",
    "    # only then it will enter it,\n",
    "    # otherwise not\n",
    "    if P == 0:\n",
    "        return 1\n",
    " \n",
    "    # Recurrence relation\n",
    "    return (N*power(N, P-1))"
   ]
  },
  {
   "cell_type": "markdown",
   "id": "c68a0cab",
   "metadata": {},
   "source": [
    "33. Write a Python program to remove duplicates from a list while preserving the order."
   ]
  },
  {
   "cell_type": "code",
   "execution_count": null,
   "id": "547f03ac",
   "metadata": {},
   "outputs": [],
   "source": [
    "def Remove(duplicate):\n",
    "    final_list = []\n",
    "    for num in duplicate:\n",
    "        if num not in final_list:\n",
    "            final_list.append(num)\n",
    "    return final_list"
   ]
  },
  {
   "cell_type": "markdown",
   "id": "1426da51",
   "metadata": {},
   "source": [
    "34. Implement a function to find the longest common prefix among a list of strings."
   ]
  },
  {
   "cell_type": "code",
   "execution_count": null,
   "id": "c52674a0",
   "metadata": {},
   "outputs": [],
   "source": [
    "def longestCommonPrefix( a):\n",
    "     \n",
    "    size = len(a)\n",
    " \n",
    "    # if size is 0, return empty string\n",
    "    if (size == 0):\n",
    "        return \"\"\n",
    " \n",
    "    if (size == 1):\n",
    "        return a[0]\n",
    " \n",
    "    # sort the array of strings\n",
    "    a.sort()\n",
    "     \n",
    "    # find the minimum length from\n",
    "    # first and last string\n",
    "    end = min(len(a[0]), len(a[size - 1]))\n",
    " \n",
    "    # find the common prefix between\n",
    "    # the first and last string\n",
    "    i = 0\n",
    "    while (i < end and\n",
    "           a[0][i] == a[size - 1][i]):\n",
    "        i += 1\n",
    " \n",
    "    pre = a[0][0: i]\n",
    "    return pre"
   ]
  },
  {
   "cell_type": "markdown",
   "id": "40545014",
   "metadata": {},
   "source": [
    "35. Write a program to check if a given number is a perfect square"
   ]
  },
  {
   "cell_type": "code",
   "execution_count": null,
   "id": "75dec103",
   "metadata": {},
   "outputs": [],
   "source": [
    "n = 2500\n",
    " \n",
    "for i in range(n+1):\n",
    "    if i**2 == n:\n",
    "        print(\"Yes\")\n",
    "        break\n",
    "else:\n",
    "    print(\"No\")"
   ]
  },
  {
   "cell_type": "markdown",
   "id": "1ee46cd4",
   "metadata": {},
   "source": [
    "36. Implement a function to calculate the product of all elements in a list."
   ]
  },
  {
   "cell_type": "code",
   "execution_count": null,
   "id": "772310c2",
   "metadata": {},
   "outputs": [],
   "source": [
    "def multiplyList(myList):\n",
    " \n",
    "    # Multiply elements one by one\n",
    "    result = 1\n",
    "    for x in myList:\n",
    "        result = result * x\n",
    "    return result"
   ]
  },
  {
   "cell_type": "markdown",
   "id": "1421713f",
   "metadata": {},
   "source": [
    "37. Write a Python program to reverse the order of words in a sentence while preserving the word order."
   ]
  },
  {
   "cell_type": "code",
   "execution_count": 64,
   "id": "4f786ed9",
   "metadata": {},
   "outputs": [
    {
     "name": "stdout",
     "output_type": "stream",
     "text": [
      "code practice assignment ineuron\n"
     ]
    }
   ],
   "source": [
    "string = \"ineuron assignment practice code\"\n",
    "# reversing words in a given string\n",
    "s = string.split()[::-1]\n",
    "l = []\n",
    "for i in s:\n",
    "    # appending reversed words to l\n",
    "    l.append(i)\n",
    "# printing reverse words\n",
    "print(\" \".join(l))"
   ]
  },
  {
   "cell_type": "markdown",
   "id": "9216135c",
   "metadata": {},
   "source": [
    "38. Implement a function to find the missing number in a given list of consecutive numbers."
   ]
  },
  {
   "cell_type": "code",
   "execution_count": 67,
   "id": "3e25a664",
   "metadata": {},
   "outputs": [
    {
     "name": "stdout",
     "output_type": "stream",
     "text": [
      "4\n"
     ]
    }
   ],
   "source": [
    "def getMissingNo(l, n):\n",
    "    i, total = 0, 1\n",
    " \n",
    "    for i in range(2, n + 2):\n",
    "        total += i\n",
    "        total -= l[i - 2]\n",
    "    return total\n",
    " \n",
    " # Driver Code\n",
    "if __name__ == '__main__':\n",
    "    l = [1, 2, 3, 5]\n",
    "    N = len(l)\n",
    " \n",
    "    # Function call\n",
    "    print(getMissingNo(l, N))"
   ]
  },
  {
   "cell_type": "markdown",
   "id": "b05c6c44",
   "metadata": {},
   "source": [
    "39. Write a program to find the sum of digits of a given number."
   ]
  },
  {
   "cell_type": "code",
   "execution_count": 68,
   "id": "1eb6c8c5",
   "metadata": {},
   "outputs": [],
   "source": [
    "def getSum(n):\n",
    "    # Initializing sum to 0\n",
    "    sum = 0\n",
    "    # Traversing through string\n",
    "    for i in n:\n",
    "        # Converting char to int\n",
    "        sum = sum + int(i)\n",
    " \n",
    "    return sum\n"
   ]
  },
  {
   "cell_type": "markdown",
   "id": "0c20c2f2",
   "metadata": {},
   "source": [
    "40. Implement a function to check if a given string is a valid palindrome considering case sensitivity"
   ]
  },
  {
   "cell_type": "code",
   "execution_count": null,
   "id": "ff2ce298",
   "metadata": {},
   "outputs": [],
   "source": [
    "def isPalindrome(s):\n",
    "    return s == s[::-1]\n",
    " \n",
    " # Driver code\n",
    "s.lower() = \"Malayalam\"\n",
    "ans = isPalindrome(s)\n",
    " \n",
    "if ans:\n",
    "    print(\"Yes\")\n",
    "else:\n",
    "    print(\"No\")"
   ]
  },
  {
   "cell_type": "markdown",
   "id": "90e34000",
   "metadata": {},
   "source": [
    "41. Write a Python program to find the smallest missing positive integer in a list."
   ]
  },
  {
   "cell_type": "code",
   "execution_count": null,
   "id": "493c5f01",
   "metadata": {},
   "outputs": [],
   "source": [
    "def firstMissingPositive(arr, n):\n",
    " \n",
    "    # Loop to traverse the whole array\n",
    "    for i in range(n):\n",
    " \n",
    "        # Loop to check boundary\n",
    "        # condition and for swapping\n",
    "        while (arr[i] >= 1 and arr[i] <= n\n",
    "               and arr[i] != arr[arr[i] - 1]):\n",
    "            temp = arr[i]\n",
    "            arr[i] = arr[arr[i] - 1]\n",
    "            arr[temp - 1] = temp\n",
    " \n",
    "    # Checking any element which\n",
    "    # is not equal to i + 1\n",
    "    for i in range(n):\n",
    "        if (arr[i] != i + 1):\n",
    "            return i + 1\n",
    " \n",
    "    # Nothing is present return last index\n",
    "    return n + 1"
   ]
  },
  {
   "cell_type": "markdown",
   "id": "7c49011b",
   "metadata": {},
   "source": [
    "42. Implement a function to find the longest palindrome substring in a given string."
   ]
  },
  {
   "cell_type": "code",
   "execution_count": null,
   "id": "d1ae98ac",
   "metadata": {},
   "outputs": [],
   "source": [
    "def longestPalSubstr(s):\n",
    "    n = len(s)\n",
    " \n",
    "    # Stores Longest palindrome Substring\n",
    "    longest = \"\"\n",
    "    j = 0\n",
    " \n",
    "    # To store substring which we think can be a palindrome\n",
    "    subs = \"\"\n",
    " \n",
    "    # To store reverse of substring we think can be palindrome\n",
    "    subsrev = \"\"\n",
    "    for i in range(n):\n",
    "        j = n-1\n",
    "        while i < j:\n",
    " \n",
    "            # Checking whether the character\n",
    "            # at i and j are same.\n",
    "            # If they are same then\n",
    "            # that substring can be LPS\n",
    "            if(s[i] == s[j] and len(longest) < (j-i+1)):\n",
    "                subs = s[i:(j+1)]\n",
    "                subsrev = subs[::-1]\n",
    "                if(subs == subsrev):\n",
    "                    longest = subs\n",
    "            j -= 1\n",
    " \n",
    "    # If no longest substring then we will\n",
    "    # return first character\n",
    "    if(len(longest) == 0):\n",
    "        longest = s[0]\n",
    "    print(\"Longest palindrome substring is: \" + longest)\n",
    " \n",
    "    # Return length of LPS\n",
    "    return len(longest)"
   ]
  },
  {
   "cell_type": "markdown",
   "id": "7a44b725",
   "metadata": {},
   "source": [
    "43. Write a program to find the number of occurrences of a given element in a list."
   ]
  },
  {
   "cell_type": "code",
   "execution_count": null,
   "id": "a7c644af",
   "metadata": {},
   "outputs": [],
   "source": [
    "from collections import Counter\n",
    " \n",
    "# declaring the list\n",
    "l = [1, 1, 2, 2, 3, 3, 4, 4, 5, 5]\n",
    " \n",
    "# driver program\n",
    "x = 3\n",
    "d = Counter(l)\n",
    "print('{} has occurred {} times'.format(x, d[x]))"
   ]
  },
  {
   "cell_type": "markdown",
   "id": "d6ac1374",
   "metadata": {},
   "source": [
    "44. Implement a function to check if a given number is a perfect number"
   ]
  },
  {
   "cell_type": "code",
   "execution_count": null,
   "id": "3ebabcc0",
   "metadata": {},
   "outputs": [],
   "source": [
    "def isPerfect( n ):\n",
    "     \n",
    "    # To store sum of divisors\n",
    "    sum = 1\n",
    "     \n",
    "    # Find all divisors and add them\n",
    "    i = 2\n",
    "    while i * i <= n:\n",
    "        if n % i == 0:\n",
    "            sum = sum + i + n/i\n",
    "        i += 1\n",
    "     \n",
    "    # If sum of divisors is equal to\n",
    "    # n, then n is a perfect number\n",
    "     \n",
    "    return (True if sum == n and n!=1 else False)"
   ]
  },
  {
   "cell_type": "markdown",
   "id": "e5fc6717",
   "metadata": {},
   "source": [
    "45. Write a Python program to remove all duplicates from a string."
   ]
  },
  {
   "cell_type": "code",
   "execution_count": null,
   "id": "2656bec2",
   "metadata": {},
   "outputs": [],
   "source": [
    "string=\"python\"\n",
    "k2=[]\n",
    "for ele in k:\n",
    "    if ele not in k2:\n",
    "        k2.append(ele)\n",
    "for i in range(0,len(k2)):\n",
    "    print(k2[i],end=\"\")"
   ]
  },
  {
   "cell_type": "markdown",
   "id": "afff7da6",
   "metadata": {},
   "source": [
    "46. Implement a function to find the first missing positive"
   ]
  },
  {
   "cell_type": "code",
   "execution_count": null,
   "id": "8d13cc72",
   "metadata": {},
   "outputs": [],
   "source": [
    "class Solution:\n",
    "    def firstMissingPositive(self, nums: List[int]) -> int:\n",
    "    n = len(nums)\n",
    "    \n",
    "    for i in range(n):\n",
    "        while 1 <= nums[i] <= n and nums[nums[i] - 1] != nums[i]:\n",
    "            nums[nums[i] - 1], nums[i] = nums[i], nums[nums[i] - 1]\n",
    "            \n",
    "    for i in range(n):\n",
    "        if nums[i] != i + 1:\n",
    "            return i + 1\n",
    "    \n",
    "    return n + 1"
   ]
  }
 ],
 "metadata": {
  "kernelspec": {
   "display_name": "Python 3 (ipykernel)",
   "language": "python",
   "name": "python3"
  },
  "language_info": {
   "codemirror_mode": {
    "name": "ipython",
    "version": 3
   },
   "file_extension": ".py",
   "mimetype": "text/x-python",
   "name": "python",
   "nbconvert_exporter": "python",
   "pygments_lexer": "ipython3",
   "version": "3.9.12"
  }
 },
 "nbformat": 4,
 "nbformat_minor": 5
}
